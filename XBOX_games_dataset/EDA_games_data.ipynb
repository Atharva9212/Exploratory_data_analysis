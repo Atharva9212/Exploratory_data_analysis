{
 "cells": [
  {
   "cell_type": "markdown",
   "metadata": {},
   "source": [
    "XBOX GAMES Dataset"
   ]
  },
  {
   "cell_type": "markdown",
   "metadata": {},
   "source": [
    "Dataset link :- https://www.kaggle.com/datasets/deepcontractor/xbox-game-pass-games-library\n",
    "\n",
    "Problem we would be Solving \n",
    "\n",
    "predicting game ratings or Game_Score based on factors like TIME, RATIO, COMP %, and True_Achievement."
   ]
  },
  {
   "cell_type": "code",
   "execution_count": 35,
   "metadata": {},
   "outputs": [],
   "source": [
    "import numpy as np\n",
    "import pandas as pd\n",
    "import seaborn as sns\n",
    "import matplotlib.pyplot as plt\n",
    "%matplotlib inline\n",
    "import warnings\n",
    "warnings.filterwarnings('ignore')"
   ]
  },
  {
   "cell_type": "code",
   "execution_count": 36,
   "metadata": {},
   "outputs": [],
   "source": [
    "df = pd.read_csv('raw.csv')"
   ]
  },
  {
   "cell_type": "code",
   "execution_count": 37,
   "metadata": {},
   "outputs": [
    {
     "data": {
      "text/html": [
       "<div>\n",
       "<style scoped>\n",
       "    .dataframe tbody tr th:only-of-type {\n",
       "        vertical-align: middle;\n",
       "    }\n",
       "\n",
       "    .dataframe tbody tr th {\n",
       "        vertical-align: top;\n",
       "    }\n",
       "\n",
       "    .dataframe thead th {\n",
       "        text-align: right;\n",
       "    }\n",
       "</style>\n",
       "<table border=\"1\" class=\"dataframe\">\n",
       "  <thead>\n",
       "    <tr style=\"text-align: right;\">\n",
       "      <th></th>\n",
       "      <th>GAME</th>\n",
       "      <th>RATIO</th>\n",
       "      <th>GAMERS</th>\n",
       "      <th>COMP %</th>\n",
       "      <th>TIME</th>\n",
       "      <th>RATING</th>\n",
       "      <th>ADDED</th>\n",
       "      <th>True_Achievement</th>\n",
       "      <th>Game_Score</th>\n",
       "    </tr>\n",
       "  </thead>\n",
       "  <tbody>\n",
       "    <tr>\n",
       "      <th>0</th>\n",
       "      <td>Mass Effect Legendary Edition</td>\n",
       "      <td>1.87</td>\n",
       "      <td>84,143</td>\n",
       "      <td>4.1</td>\n",
       "      <td>100-120 hours</td>\n",
       "      <td>4.8</td>\n",
       "      <td>06 Jan 22</td>\n",
       "      <td>5442</td>\n",
       "      <td>2915</td>\n",
       "    </tr>\n",
       "    <tr>\n",
       "      <th>1</th>\n",
       "      <td>The Elder Scrolls V: Skyrim Special Edition</td>\n",
       "      <td>1.97</td>\n",
       "      <td>213,257</td>\n",
       "      <td>8.0</td>\n",
       "      <td>80-100 hours</td>\n",
       "      <td>4.7</td>\n",
       "      <td>15 Dec 20</td>\n",
       "      <td>3055</td>\n",
       "      <td>1550</td>\n",
       "    </tr>\n",
       "    <tr>\n",
       "      <th>2</th>\n",
       "      <td>Mass Effect 2</td>\n",
       "      <td>1.34</td>\n",
       "      <td>221,178</td>\n",
       "      <td>9.6</td>\n",
       "      <td>50-60 hours</td>\n",
       "      <td>4.7</td>\n",
       "      <td>09 Nov 20</td>\n",
       "      <td>1819</td>\n",
       "      <td>1355</td>\n",
       "    </tr>\n",
       "    <tr>\n",
       "      <th>3</th>\n",
       "      <td>Stardew Valley</td>\n",
       "      <td>3.04</td>\n",
       "      <td>51,530</td>\n",
       "      <td>1.0</td>\n",
       "      <td>150-200 hours</td>\n",
       "      <td>4.7</td>\n",
       "      <td>02 Dec 21</td>\n",
       "      <td>3036</td>\n",
       "      <td>1000</td>\n",
       "    </tr>\n",
       "    <tr>\n",
       "      <th>4</th>\n",
       "      <td>It Takes Two</td>\n",
       "      <td>1.68</td>\n",
       "      <td>71,981</td>\n",
       "      <td>15.6</td>\n",
       "      <td>12-15 hours</td>\n",
       "      <td>4.7</td>\n",
       "      <td>03 Nov 21</td>\n",
       "      <td>1678</td>\n",
       "      <td>1000</td>\n",
       "    </tr>\n",
       "  </tbody>\n",
       "</table>\n",
       "</div>"
      ],
      "text/plain": [
       "                                          GAME  RATIO   GAMERS  COMP %  \\\n",
       "0                Mass Effect Legendary Edition   1.87   84,143     4.1   \n",
       "1  The Elder Scrolls V: Skyrim Special Edition   1.97  213,257     8.0   \n",
       "2                                Mass Effect 2   1.34  221,178     9.6   \n",
       "3                               Stardew Valley   3.04   51,530     1.0   \n",
       "4                                 It Takes Two   1.68   71,981    15.6   \n",
       "\n",
       "            TIME  RATING      ADDED  True_Achievement  Game_Score  \n",
       "0  100-120 hours     4.8  06 Jan 22              5442        2915  \n",
       "1   80-100 hours     4.7  15 Dec 20              3055        1550  \n",
       "2    50-60 hours     4.7  09 Nov 20              1819        1355  \n",
       "3  150-200 hours     4.7  02 Dec 21              3036        1000  \n",
       "4    12-15 hours     4.7  03 Nov 21              1678        1000  "
      ]
     },
     "execution_count": 37,
     "metadata": {},
     "output_type": "execute_result"
    }
   ],
   "source": [
    "df.head()"
   ]
  },
  {
   "cell_type": "markdown",
   "metadata": {},
   "source": [
    "Dataset description \n",
    "1) Name of the game \n",
    "2) Ratio :- This column is made with True Achievement column and game score column\n",
    "3) Number of GAMERS\n",
    "4) COMP % :- Number of people that completed the game\n",
    "5) TIME :- Time required for completion\n",
    "6) RATING :- Rating out of 5\n",
    "7) ADDED :- Date added\n",
    "8) True_Achievement :- True Achievement (in game points)\n",
    "9) Game_score :- Game_Score"
   ]
  },
  {
   "cell_type": "markdown",
   "metadata": {},
   "source": [
    "Data Checks to perform \n",
    "1) Check Missing values \n",
    "2) Check Duplicates \n",
    "3) Check data types\n",
    "4) Check the number of unique values of each column\n",
    "5) Check statistics of data set\n",
    "6) Check various categories present in the different categorical column \n"
   ]
  },
  {
   "cell_type": "markdown",
   "metadata": {},
   "source": [
    "1) Check the Missing values "
   ]
  },
  {
   "cell_type": "code",
   "execution_count": 38,
   "metadata": {},
   "outputs": [
    {
     "data": {
      "text/plain": [
       "GAME                 0\n",
       "RATIO                0\n",
       "GAMERS               0\n",
       "COMP %               0\n",
       "TIME                31\n",
       "RATING               0\n",
       "ADDED                1\n",
       "True_Achievement     0\n",
       "Game_Score           0\n",
       "dtype: int64"
      ]
     },
     "execution_count": 38,
     "metadata": {},
     "output_type": "execute_result"
    }
   ],
   "source": [
    "df.isna().sum()"
   ]
  },
  {
   "cell_type": "markdown",
   "metadata": {},
   "source": [
    "As we can see, the ‘Time’ column contains 31 null values and the 'ADDED' contains 1 null value. We will replace these null values with the categorical mode of the column."
   ]
  },
  {
   "cell_type": "code",
   "execution_count": 39,
   "metadata": {},
   "outputs": [],
   "source": [
    "#Solution\n",
    "df['TIME'] = df['TIME'].fillna(df['TIME'].mode()[0])\n",
    "df['ADDED'] = df['ADDED'].fillna(df['ADDED'].mode()[0])\n"
   ]
  },
  {
   "cell_type": "code",
   "execution_count": 40,
   "metadata": {},
   "outputs": [
    {
     "data": {
      "text/plain": [
       "GAME                0\n",
       "RATIO               0\n",
       "GAMERS              0\n",
       "COMP %              0\n",
       "TIME                0\n",
       "RATING              0\n",
       "ADDED               0\n",
       "True_Achievement    0\n",
       "Game_Score          0\n",
       "dtype: int64"
      ]
     },
     "execution_count": 40,
     "metadata": {},
     "output_type": "execute_result"
    }
   ],
   "source": [
    "df.isna().sum()"
   ]
  },
  {
   "cell_type": "markdown",
   "metadata": {},
   "source": [
    "2) Check for Duplicates "
   ]
  },
  {
   "cell_type": "code",
   "execution_count": 41,
   "metadata": {},
   "outputs": [
    {
     "data": {
      "text/plain": [
       "np.int64(0)"
      ]
     },
     "execution_count": 41,
     "metadata": {},
     "output_type": "execute_result"
    }
   ],
   "source": [
    "df.duplicated().sum()"
   ]
  },
  {
   "cell_type": "markdown",
   "metadata": {},
   "source": [
    "3. Check for DataTypes"
   ]
  },
  {
   "cell_type": "code",
   "execution_count": 42,
   "metadata": {},
   "outputs": [
    {
     "name": "stdout",
     "output_type": "stream",
     "text": [
      "<class 'pandas.core.frame.DataFrame'>\n",
      "RangeIndex: 452 entries, 0 to 451\n",
      "Data columns (total 9 columns):\n",
      " #   Column            Non-Null Count  Dtype  \n",
      "---  ------            --------------  -----  \n",
      " 0   GAME              452 non-null    object \n",
      " 1   RATIO             452 non-null    float64\n",
      " 2   GAMERS            452 non-null    object \n",
      " 3   COMP %            452 non-null    float64\n",
      " 4   TIME              452 non-null    object \n",
      " 5   RATING            452 non-null    float64\n",
      " 6   ADDED             452 non-null    object \n",
      " 7   True_Achievement  452 non-null    int64  \n",
      " 8   Game_Score        452 non-null    int64  \n",
      "dtypes: float64(3), int64(2), object(4)\n",
      "memory usage: 31.9+ KB\n"
     ]
    }
   ],
   "source": [
    "# Check Null and Dtypes\n",
    "df.info()"
   ]
  },
  {
   "cell_type": "markdown",
   "metadata": {},
   "source": [
    "4. Checking the number of unique values of each column"
   ]
  },
  {
   "cell_type": "code",
   "execution_count": 43,
   "metadata": {},
   "outputs": [
    {
     "data": {
      "text/plain": [
       "GAME                450\n",
       "RATIO               292\n",
       "GAMERS              451\n",
       "COMP %              149\n",
       "TIME                 27\n",
       "RATING               29\n",
       "ADDED               176\n",
       "True_Achievement    434\n",
       "Game_Score           84\n",
       "dtype: int64"
      ]
     },
     "execution_count": 43,
     "metadata": {},
     "output_type": "execute_result"
    }
   ],
   "source": [
    "df.nunique()"
   ]
  },
  {
   "cell_type": "markdown",
   "metadata": {},
   "source": [
    "Check statistics of data set"
   ]
  },
  {
   "cell_type": "code",
   "execution_count": 44,
   "metadata": {},
   "outputs": [
    {
     "data": {
      "text/html": [
       "<div>\n",
       "<style scoped>\n",
       "    .dataframe tbody tr th:only-of-type {\n",
       "        vertical-align: middle;\n",
       "    }\n",
       "\n",
       "    .dataframe tbody tr th {\n",
       "        vertical-align: top;\n",
       "    }\n",
       "\n",
       "    .dataframe thead th {\n",
       "        text-align: right;\n",
       "    }\n",
       "</style>\n",
       "<table border=\"1\" class=\"dataframe\">\n",
       "  <thead>\n",
       "    <tr style=\"text-align: right;\">\n",
       "      <th></th>\n",
       "      <th>RATIO</th>\n",
       "      <th>COMP %</th>\n",
       "      <th>RATING</th>\n",
       "      <th>True_Achievement</th>\n",
       "      <th>Game_Score</th>\n",
       "    </tr>\n",
       "  </thead>\n",
       "  <tbody>\n",
       "    <tr>\n",
       "      <th>count</th>\n",
       "      <td>452.000000</td>\n",
       "      <td>452.000000</td>\n",
       "      <td>452.000000</td>\n",
       "      <td>452.000000</td>\n",
       "      <td>452.000000</td>\n",
       "    </tr>\n",
       "    <tr>\n",
       "      <th>mean</th>\n",
       "      <td>3.764159</td>\n",
       "      <td>6.386947</td>\n",
       "      <td>3.701549</td>\n",
       "      <td>4717.909292</td>\n",
       "      <td>1210.132743</td>\n",
       "    </tr>\n",
       "    <tr>\n",
       "      <th>std</th>\n",
       "      <td>3.129151</td>\n",
       "      <td>11.605195</td>\n",
       "      <td>0.517860</td>\n",
       "      <td>5013.051958</td>\n",
       "      <td>661.961561</td>\n",
       "    </tr>\n",
       "    <tr>\n",
       "      <th>min</th>\n",
       "      <td>1.040000</td>\n",
       "      <td>0.000000</td>\n",
       "      <td>2.000000</td>\n",
       "      <td>252.000000</td>\n",
       "      <td>200.000000</td>\n",
       "    </tr>\n",
       "    <tr>\n",
       "      <th>25%</th>\n",
       "      <td>2.067500</td>\n",
       "      <td>0.600000</td>\n",
       "      <td>3.400000</td>\n",
       "      <td>2118.500000</td>\n",
       "      <td>1000.000000</td>\n",
       "    </tr>\n",
       "    <tr>\n",
       "      <th>50%</th>\n",
       "      <td>2.920000</td>\n",
       "      <td>1.900000</td>\n",
       "      <td>3.700000</td>\n",
       "      <td>3242.500000</td>\n",
       "      <td>1000.000000</td>\n",
       "    </tr>\n",
       "    <tr>\n",
       "      <th>75%</th>\n",
       "      <td>4.125000</td>\n",
       "      <td>6.150000</td>\n",
       "      <td>4.100000</td>\n",
       "      <td>5037.500000</td>\n",
       "      <td>1223.750000</td>\n",
       "    </tr>\n",
       "    <tr>\n",
       "      <th>max</th>\n",
       "      <td>37.180000</td>\n",
       "      <td>84.700000</td>\n",
       "      <td>4.800000</td>\n",
       "      <td>37178.000000</td>\n",
       "      <td>7000.000000</td>\n",
       "    </tr>\n",
       "  </tbody>\n",
       "</table>\n",
       "</div>"
      ],
      "text/plain": [
       "            RATIO      COMP %      RATING  True_Achievement   Game_Score\n",
       "count  452.000000  452.000000  452.000000        452.000000   452.000000\n",
       "mean     3.764159    6.386947    3.701549       4717.909292  1210.132743\n",
       "std      3.129151   11.605195    0.517860       5013.051958   661.961561\n",
       "min      1.040000    0.000000    2.000000        252.000000   200.000000\n",
       "25%      2.067500    0.600000    3.400000       2118.500000  1000.000000\n",
       "50%      2.920000    1.900000    3.700000       3242.500000  1000.000000\n",
       "75%      4.125000    6.150000    4.100000       5037.500000  1223.750000\n",
       "max     37.180000   84.700000    4.800000      37178.000000  7000.000000"
      ]
     },
     "execution_count": 44,
     "metadata": {},
     "output_type": "execute_result"
    }
   ],
   "source": [
    "df.describe()"
   ]
  },
  {
   "cell_type": "markdown",
   "metadata": {},
   "source": [
    "Statisctical Insights\n",
    "1) the Average Game score on Xbox Games library is 1210.132743\n",
    "2) the median True_Achievement score is 3242.50, which is lower than the mean, indicating a right-skewed distribution.\n",
    "3) Game_Score ranges from 200 to 7000, showing significant variation.\n",
    "4) The minimum rating is 2.00, and the maximum is 4.80."
   ]
  },
  {
   "cell_type": "code",
   "execution_count": 45,
   "metadata": {},
   "outputs": [
    {
     "name": "stdout",
     "output_type": "stream",
     "text": [
      "Highest-rated Game(s):\n",
      "                            GAME  RATING\n",
      "0  Mass Effect Legendary Edition     4.8\n",
      "\n",
      "Lowest-rated Game(s):\n",
      "                    GAME  RATING\n",
      "418  Surgeon Simulator 2     2.0\n"
     ]
    }
   ],
   "source": [
    "# Highest-rated game\n",
    "max_rating = df['RATING'].max() \n",
    "highest_rated_game = df[df['RATING'] == max_rating]  \n",
    "\n",
    "# Lowest-rated game\n",
    "min_rating = df['RATING'].min()  \n",
    "lowest_rated_game = df[df['RATING'] == min_rating]  \n",
    "\n",
    "# Display the results\n",
    "print(\"Highest-rated Game(s):\")\n",
    "print(highest_rated_game[['GAME', 'RATING']])\n",
    "\n",
    "print(\"\\nLowest-rated Game(s):\")\n",
    "print(lowest_rated_game[['GAME', 'RATING']])"
   ]
  },
  {
   "cell_type": "code",
   "execution_count": 46,
   "metadata": {},
   "outputs": [
    {
     "name": "stdout",
     "output_type": "stream",
     "text": [
      "Highest Game Score(s):\n",
      "                                 GAME           TIME\n",
      "15  Halo: The Master Chief Collection  300-500 hours\n",
      "\n",
      "Lowest Game Score(s):\n",
      "                                     GAME           TIME\n",
      "68                          Banjo-Kazooie    12-15 hours\n",
      "102                           Banjo-Tooie    15-20 hours\n",
      "114                    Plants vs. Zombies    15-20 hours\n",
      "138                      Battlefield 1943    20-25 hours\n",
      "190        Alan Wake's American Nightmare     8-10 hours\n",
      "201               Perfect Dark (Xbox 360)    50-60 hours\n",
      "260                           Bejeweled 3    12-15 hours\n",
      "354  Feeding Frenzy 2: Shipwreck Showdown     8-10 hours\n",
      "359                        Joy Ride Turbo     8-10 hours\n",
      "367                          Heavy Weapon     8-10 hours\n",
      "374                                  Zuma    50-60 hours\n",
      "388                           Bejeweled 2  300-500 hours\n",
      "395                        Feeding Frenzy    10-12 hours\n",
      "399                      Jetpac Refuelled    10-12 hours\n",
      "413                  Dead Space: Ignition      3-4 hours\n"
     ]
    }
   ],
   "source": [
    "# Highest Game Score\n",
    "max_game_score = df['Game_Score'].max()  \n",
    "highest_game_score = df[df['Game_Score'] == max_game_score]  \n",
    "\n",
    "# Lowest Game Score\n",
    "min_game_score = df['Game_Score'].min()  \n",
    "lowest_game_score = df[df['Game_Score'] == min_game_score]  \n",
    "\n",
    "# Display the results\n",
    "print(\"Highest Game Score(s):\")\n",
    "print(highest_game_score[['GAME', 'TIME']])\n",
    "\n",
    "print(\"\\nLowest Game Score(s):\")\n",
    "print(lowest_game_score[['GAME', 'TIME']])\n"
   ]
  },
  {
   "cell_type": "markdown",
   "metadata": {},
   "source": [
    "if feature for feature in the data frame column is not equal to object type then its a nemurical feature \n",
    "else for feature equal to object data types its a categorical feature "
   ]
  },
  {
   "cell_type": "code",
   "execution_count": 47,
   "metadata": {},
   "outputs": [
    {
     "name": "stdout",
     "output_type": "stream",
     "text": [
      "We have 5 numerical features : ['RATIO', 'COMP %', 'RATING', 'True_Achievement', 'Game_Score']\n",
      "\n",
      "We have 4 categorical features : ['GAME', 'GAMERS', 'TIME', 'ADDED']\n"
     ]
    }
   ],
   "source": [
    "# define numerical & categorical columns\n",
    "numeric_features = [feature for feature in df.columns if df[feature].dtype != 'O'] \n",
    "categorical_features = [feature for feature in df.columns if df[feature].dtype == 'O']\n",
    "\n",
    "print('We have {} numerical features : {}'.format(len(numeric_features), numeric_features))\n",
    "print('\\nWe have {} categorical features : {}'.format(len(categorical_features), categorical_features))"
   ]
  },
  {
   "cell_type": "code",
   "execution_count": 48,
   "metadata": {},
   "outputs": [],
   "source": [
    "\n",
    "# converting time into numerical data type \n",
    "def convert_time_to_numeric(time_str):\n",
    "    # Handle '1000+ hours' by returning 1000 \n",
    "    if '1000+' in time_str:\n",
    "        return 1000\n",
    "    # ranges like '100-120 hours'\n",
    "    elif '-' in time_str:\n",
    "        range_values = time_str.split('-')\n",
    "        return (float(range_values[0]) + float(range_values[1].split()[0])) / 2\n",
    "    # Handle fractional times like '0.5 hours'\n",
    "    elif 'hours' in time_str and '.' in time_str:\n",
    "        return float(time_str.split()[0])\n",
    "    # Handle single integer times like '12 hours'\n",
    "    elif 'hours' in time_str:\n",
    "        return float(time_str.split()[0])\n",
    "    # If format is not recognizable, return NaN\n",
    "    else:\n",
    "        return np.nan\n",
    "\n",
    "df['TIME'] = df['TIME'].apply(convert_time_to_numeric)\n"
   ]
  },
  {
   "cell_type": "code",
   "execution_count": 49,
   "metadata": {},
   "outputs": [
    {
     "name": "stdout",
     "output_type": "stream",
     "text": [
      "Highest Game Score(s):\n",
      "                           GAME  Game_Score\n",
      "26               Gears of War 3        2000\n",
      "37   Microsoft Flight Simulator        1000\n",
      "109                     Gears 5        2500\n",
      "180    The Elder Scrolls Online        5480\n",
      "214              Sea of Thieves        3800\n",
      "\n",
      "Lowest Game Score(s):\n",
      "           GAME  Game_Score\n",
      "380  Townscaper        1000\n"
     ]
    }
   ],
   "source": [
    "# Highest Game Score\n",
    "max_game_score = df['TIME'].max()  \n",
    "highest_game_score = df[df['TIME'] == max_game_score]  \n",
    "\n",
    "# Lowest Game Score\n",
    "min_game_score = df['TIME'].min()  \n",
    "lowest_game_score = df[df['TIME'] == min_game_score] \n",
    "\n",
    "# Display the results\n",
    "print(\"Highest Game Score(s):\")\n",
    "print(highest_game_score[['GAME', 'Game_Score']])\n",
    "\n",
    "print(\"\\nLowest Game Score(s):\")\n",
    "print(lowest_game_score[['GAME', 'Game_Score']])"
   ]
  },
  {
   "cell_type": "code",
   "execution_count": 50,
   "metadata": {},
   "outputs": [
    {
     "data": {
      "image/png": "[encoded data removed]",
      "text/plain": [
       "<Figure size 800x500 with 1 Axes>"
      ]
     },
     "metadata": {},
     "output_type": "display_data"
    },
    {
     "data": {
      "image/png": "[encoded data removed]",
      "text/plain": [
       "<Figure size 800x500 with 1 Axes>"
      ]
     },
     "metadata": {},
     "output_type": "display_data"
    },
    {
     "data": {
      "image/png": "[encoded data removed]",
      "text/plain": [
       "<Figure size 800x500 with 1 Axes>"
      ]
     },
     "metadata": {},
     "output_type": "display_data"
    },
    {
     "data": {
      "image/png": "[encoded data removed]",
      "text/plain": [
       "<Figure size 800x500 with 1 Axes>"
      ]
     },
     "metadata": {},
     "output_type": "display_data"
    },
    {
     "data": {
      "image/png": "[encoded data removed]",
      "text/plain": [
       "<Figure size 800x500 with 1 Axes>"
      ]
     },
     "metadata": {},
     "output_type": "display_data"
    }
   ],
   "source": [
    "# Plot Histograms with KDE for RATING, Game_Score, RATIO, COMP %, TIME\n",
    "variables = ['RATING', 'Game_Score', 'RATIO', 'COMP %', 'TIME']\n",
    "\n",
    "for var in variables:\n",
    "    plt.figure(figsize=(8, 5))\n",
    "    sns.histplot(df[var], kde=True, color='skyblue', bins=10)\n",
    "    plt.title(f'Distribution of {var}')\n",
    "    plt.xlabel(var)\n",
    "    plt.ylabel('Frequency')\n",
    "    plt.show()"
   ]
  },
  {
   "cell_type": "markdown",
   "metadata": {},
   "source": [
    "Feature Engineering: Detailed Explanation"
   ]
  },
  {
   "cell_type": "markdown",
   "metadata": {},
   "source": [
    "A. Time Categories"
   ]
  },
  {
   "cell_type": "code",
   "execution_count": 51,
   "metadata": {},
   "outputs": [
    {
     "name": "stdout",
     "output_type": "stream",
     "text": [
      "      TIME Time_Category\n",
      "0    110.0          long\n",
      "1     90.0          long\n",
      "2     55.0        medium\n",
      "3    175.0     very long\n",
      "4     13.5         short\n",
      "..     ...           ...\n",
      "447   17.5         short\n",
      "448   70.0          long\n",
      "449   70.0          long\n",
      "450   17.5         short\n",
      "451   70.0          long\n",
      "\n",
      "[452 rows x 2 columns]\n"
     ]
    }
   ],
   "source": [
    "# Define time categories based on completion hours\n",
    "def categorize_time(time):\n",
    "    if time <= 20:\n",
    "        return 'short'\n",
    "    elif 20 < time <= 60:\n",
    "        return 'medium'\n",
    "    elif 60 < time <= 150:\n",
    "        return 'long'\n",
    "    else:\n",
    "        return 'very long'\n",
    "\n",
    "df['Time_Category'] = df['TIME'].apply(categorize_time)\n",
    "\n",
    "print(df[['TIME', 'Time_Category']])\n"
   ]
  },
  {
   "cell_type": "markdown",
   "metadata": {},
   "source": [
    "This creates a new feature, Time_Category, that divides games into \"short\", \"medium\", \"long\", and \"very long\" based on the game's completion time."
   ]
  },
  {
   "cell_type": "markdown",
   "metadata": {},
   "source": [
    "B. Difficulty Groups (Based on RATIO)"
   ]
  },
  {
   "cell_type": "code",
   "execution_count": 52,
   "metadata": {},
   "outputs": [
    {
     "name": "stdout",
     "output_type": "stream",
     "text": [
      "     RATIO Difficulty_Level\n",
      "0     1.87           medium\n",
      "1     1.97           medium\n",
      "2     1.34             easy\n",
      "3     3.04             hard\n",
      "4     1.68           medium\n",
      "..     ...              ...\n",
      "447   2.40             hard\n",
      "448  11.70             hard\n",
      "449   2.90             hard\n",
      "450   3.91             hard\n",
      "451   1.61           medium\n",
      "\n",
      "[452 rows x 2 columns]\n"
     ]
    }
   ],
   "source": [
    "# Define difficulty categories based on the 'RATIO'\n",
    "def categorize_difficulty(ratio):\n",
    "    if ratio <= 1.5:\n",
    "        return 'easy'\n",
    "    elif 1.5 < ratio <= 2.0:\n",
    "        return 'medium'\n",
    "    else:\n",
    "        return 'hard'\n",
    "\n",
    "df['Difficulty_Level'] = df['RATIO'].apply(categorize_difficulty)\n",
    "\n",
    "print(df[['RATIO', 'Difficulty_Level']])\n"
   ]
  },
  {
   "cell_type": "markdown",
   "metadata": {},
   "source": [
    "C. Competition Levels (Based on COMP %)"
   ]
  },
  {
   "cell_type": "code",
   "execution_count": 53,
   "metadata": {},
   "outputs": [
    {
     "name": "stdout",
     "output_type": "stream",
     "text": [
      "     COMP % Competition_Level\n",
      "0       4.1               low\n",
      "1       8.0            medium\n",
      "2       9.6            medium\n",
      "3       1.0               low\n",
      "4      15.6              high\n",
      "..      ...               ...\n",
      "447     1.0               low\n",
      "448     0.0               low\n",
      "449     1.9               low\n",
      "450     1.6               low\n",
      "451    12.1              high\n",
      "\n",
      "[452 rows x 2 columns]\n"
     ]
    }
   ],
   "source": [
    "# Define competition levels based on 'COMP %'\n",
    "def categorize_competition(comp):\n",
    "    if comp <= 5:\n",
    "        return 'low'\n",
    "    elif 5 < comp <= 10:\n",
    "        return 'medium'\n",
    "    else:\n",
    "        return 'high'\n",
    "\n",
    "df['Competition_Level'] = df['COMP %'].apply(categorize_competition)\n",
    "\n",
    "print(df[['COMP %', 'Competition_Level']])\n"
   ]
  },
  {
   "cell_type": "code",
   "execution_count": null,
   "metadata": {},
   "outputs": [],
   "source": []
  }
 ],
 "metadata": {
  "kernelspec": {
   "display_name": "Python 3",
   "language": "python",
   "name": "python3"
  },
  "language_info": {
   "codemirror_mode": {
    "name": "ipython",
    "version": 3
   },
   "file_extension": ".py",
   "mimetype": "text/x-python",
   "name": "python",
   "nbconvert_exporter": "python",
   "pygments_lexer": "ipython3",
   "version": "3.9.0"
  }
 },
 "nbformat": 4,
 "nbformat_minor": 2
}
